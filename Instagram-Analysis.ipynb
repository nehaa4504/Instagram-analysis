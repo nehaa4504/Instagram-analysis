{
 "cells": [
  {
   "cell_type": "code",
   "execution_count": null,
   "id": "9dd34ffe-f976-4be9-a6de-c482bfbcdf02",
   "metadata": {},
   "outputs": [],
   "source": [
    "\n"
   ]
  },
  {
   "cell_type": "code",
   "execution_count": 6,
   "id": "f873a4a4-f8c8-4fb6-a29f-4b74ae53aeac",
   "metadata": {},
   "outputs": [],
   "source": [
    "import pandas as pd\n",
    "import numpy as np\n",
    "df = pd.read_csv('C:\\\\Users\\\\DELL\\\\Downloads\\\\social media influencers - instagram sep-2022.csv')"
   ]
  },
  {
   "cell_type": "code",
   "execution_count": 7,
   "id": "e017592e-24b2-4ce4-bc1e-c37d439609d9",
   "metadata": {},
   "outputs": [
    {
     "data": {
      "text/html": [
       "<div>\n",
       "<style scoped>\n",
       "    .dataframe tbody tr th:only-of-type {\n",
       "        vertical-align: middle;\n",
       "    }\n",
       "\n",
       "    .dataframe tbody tr th {\n",
       "        vertical-align: top;\n",
       "    }\n",
       "\n",
       "    .dataframe thead th {\n",
       "        text-align: right;\n",
       "    }\n",
       "</style>\n",
       "<table border=\"1\" class=\"dataframe\">\n",
       "  <thead>\n",
       "    <tr style=\"text-align: right;\">\n",
       "      <th></th>\n",
       "      <th>S.no</th>\n",
       "      <th>Instagram name</th>\n",
       "      <th>Name</th>\n",
       "      <th>Subscribers</th>\n",
       "      <th>Audience country</th>\n",
       "      <th>Authentic engagement\\n</th>\n",
       "      <th>Engagement average\\r\\n</th>\n",
       "      <th>Category_1</th>\n",
       "      <th>Category_2</th>\n",
       "    </tr>\n",
       "  </thead>\n",
       "  <tbody>\n",
       "    <tr>\n",
       "      <th>0</th>\n",
       "      <td>1</td>\n",
       "      <td>cristiano</td>\n",
       "      <td>Cristiano Ronaldo</td>\n",
       "      <td>477.9M</td>\n",
       "      <td>India</td>\n",
       "      <td>5M</td>\n",
       "      <td>6.2M</td>\n",
       "      <td>Sports with a ball</td>\n",
       "      <td>NaN</td>\n",
       "    </tr>\n",
       "    <tr>\n",
       "      <th>1</th>\n",
       "      <td>2</td>\n",
       "      <td>kyliejenner</td>\n",
       "      <td>Kylie 🤍</td>\n",
       "      <td>368.1M</td>\n",
       "      <td>United States</td>\n",
       "      <td>3.5M</td>\n",
       "      <td>5.5M</td>\n",
       "      <td>Fashion</td>\n",
       "      <td>Modeling</td>\n",
       "    </tr>\n",
       "    <tr>\n",
       "      <th>2</th>\n",
       "      <td>3</td>\n",
       "      <td>arianagrande</td>\n",
       "      <td>Ariana Grande</td>\n",
       "      <td>329.6M</td>\n",
       "      <td>United States</td>\n",
       "      <td>2.9M</td>\n",
       "      <td>4M</td>\n",
       "      <td>NaN</td>\n",
       "      <td>NaN</td>\n",
       "    </tr>\n",
       "    <tr>\n",
       "      <th>3</th>\n",
       "      <td>4</td>\n",
       "      <td>leomessi</td>\n",
       "      <td>Leo Messi</td>\n",
       "      <td>358.6M</td>\n",
       "      <td>Indonesia</td>\n",
       "      <td>2.7M</td>\n",
       "      <td>3.5M</td>\n",
       "      <td>Sports with a ball</td>\n",
       "      <td>Family</td>\n",
       "    </tr>\n",
       "    <tr>\n",
       "      <th>4</th>\n",
       "      <td>5</td>\n",
       "      <td>zendaya</td>\n",
       "      <td>Zendaya</td>\n",
       "      <td>151.1M</td>\n",
       "      <td>United States</td>\n",
       "      <td>4.3M</td>\n",
       "      <td>5.8M</td>\n",
       "      <td>Cinema &amp; Actors/actresses</td>\n",
       "      <td>Fashion</td>\n",
       "    </tr>\n",
       "    <tr>\n",
       "      <th>...</th>\n",
       "      <td>...</td>\n",
       "      <td>...</td>\n",
       "      <td>...</td>\n",
       "      <td>...</td>\n",
       "      <td>...</td>\n",
       "      <td>...</td>\n",
       "      <td>...</td>\n",
       "      <td>...</td>\n",
       "      <td>...</td>\n",
       "    </tr>\n",
       "    <tr>\n",
       "      <th>1045</th>\n",
       "      <td>996</td>\n",
       "      <td>jadethirlwall</td>\n",
       "      <td>jade amelia thirlwall</td>\n",
       "      <td>9.4M</td>\n",
       "      <td>United States</td>\n",
       "      <td>174.2K</td>\n",
       "      <td>228.1K</td>\n",
       "      <td>NaN</td>\n",
       "      <td>NaN</td>\n",
       "    </tr>\n",
       "    <tr>\n",
       "      <th>1046</th>\n",
       "      <td>997</td>\n",
       "      <td>ninja</td>\n",
       "      <td>User Not Found</td>\n",
       "      <td>12.9M</td>\n",
       "      <td>United States</td>\n",
       "      <td>127.8K</td>\n",
       "      <td>163.9K</td>\n",
       "      <td>Computers &amp; Gadgets</td>\n",
       "      <td>Machinery &amp; Technologies</td>\n",
       "    </tr>\n",
       "    <tr>\n",
       "      <th>1047</th>\n",
       "      <td>998</td>\n",
       "      <td>myriamfares</td>\n",
       "      <td>Myriam Fares</td>\n",
       "      <td>20.6M</td>\n",
       "      <td>Iraq</td>\n",
       "      <td>75.8K</td>\n",
       "      <td>102.4K</td>\n",
       "      <td>NaN</td>\n",
       "      <td>NaN</td>\n",
       "    </tr>\n",
       "    <tr>\n",
       "      <th>1048</th>\n",
       "      <td>999</td>\n",
       "      <td>optimushwang</td>\n",
       "      <td>황민현</td>\n",
       "      <td>4.2M</td>\n",
       "      <td>South Korea</td>\n",
       "      <td>426K</td>\n",
       "      <td>508K</td>\n",
       "      <td>Lifestyle</td>\n",
       "      <td>NaN</td>\n",
       "    </tr>\n",
       "    <tr>\n",
       "      <th>1049</th>\n",
       "      <td>1000</td>\n",
       "      <td>syifahadjureal</td>\n",
       "      <td>Syifa Hadju</td>\n",
       "      <td>15.5M</td>\n",
       "      <td>Indonesia</td>\n",
       "      <td>110.2K</td>\n",
       "      <td>136.1K</td>\n",
       "      <td>Modeling</td>\n",
       "      <td>NaN</td>\n",
       "    </tr>\n",
       "  </tbody>\n",
       "</table>\n",
       "<p>1050 rows × 9 columns</p>\n",
       "</div>"
      ],
      "text/plain": [
       "      S.no  Instagram name                   Name Subscribers  \\\n",
       "0        1       cristiano      Cristiano Ronaldo      477.9M   \n",
       "1        2     kyliejenner                Kylie 🤍      368.1M   \n",
       "2        3    arianagrande          Ariana Grande      329.6M   \n",
       "3        4        leomessi              Leo Messi      358.6M   \n",
       "4        5         zendaya                Zendaya      151.1M   \n",
       "...    ...             ...                    ...         ...   \n",
       "1045   996   jadethirlwall  jade amelia thirlwall        9.4M   \n",
       "1046   997           ninja         User Not Found       12.9M   \n",
       "1047   998     myriamfares           Myriam Fares       20.6M   \n",
       "1048   999    optimushwang                    황민현        4.2M   \n",
       "1049  1000  syifahadjureal            Syifa Hadju       15.5M   \n",
       "\n",
       "     Audience country Authentic engagement\\n Engagement average\\r\\n  \\\n",
       "0               India                     5M                   6.2M   \n",
       "1       United States                   3.5M                   5.5M   \n",
       "2       United States                   2.9M                     4M   \n",
       "3           Indonesia                   2.7M                   3.5M   \n",
       "4       United States                   4.3M                   5.8M   \n",
       "...               ...                    ...                    ...   \n",
       "1045    United States                 174.2K                 228.1K   \n",
       "1046    United States                 127.8K                 163.9K   \n",
       "1047             Iraq                  75.8K                 102.4K   \n",
       "1048      South Korea                   426K                   508K   \n",
       "1049        Indonesia                 110.2K                 136.1K   \n",
       "\n",
       "                     Category_1                Category_2  \n",
       "0            Sports with a ball                       NaN  \n",
       "1                       Fashion                  Modeling  \n",
       "2                           NaN                       NaN  \n",
       "3            Sports with a ball                    Family  \n",
       "4     Cinema & Actors/actresses                   Fashion  \n",
       "...                         ...                       ...  \n",
       "1045                        NaN                       NaN  \n",
       "1046        Computers & Gadgets  Machinery & Technologies  \n",
       "1047                        NaN                       NaN  \n",
       "1048                  Lifestyle                       NaN  \n",
       "1049                   Modeling                       NaN  \n",
       "\n",
       "[1050 rows x 9 columns]"
      ]
     },
     "execution_count": 7,
     "metadata": {},
     "output_type": "execute_result"
    }
   ],
   "source": [
    "df"
   ]
  },
  {
   "cell_type": "code",
   "execution_count": 8,
   "id": "09caf74b-2e74-4ce6-be6d-57b9862b289e",
   "metadata": {},
   "outputs": [
    {
     "name": "stdout",
     "output_type": "stream",
     "text": [
      "<class 'pandas.core.frame.DataFrame'>\n",
      "RangeIndex: 1050 entries, 0 to 1049\n",
      "Data columns (total 9 columns):\n",
      " #   Column                 Non-Null Count  Dtype \n",
      "---  ------                 --------------  ----- \n",
      " 0   S.no                   1050 non-null   int64 \n",
      " 1   Instagram name         1050 non-null   object\n",
      " 2    Name                  1029 non-null   object\n",
      " 3   Subscribers            1050 non-null   object\n",
      " 4   Audience country       1046 non-null   object\n",
      " 5   Authentic engagement\n",
      "  1050 non-null   object\n",
      " 6   Engagement average\n",
      "   1050 non-null   object\n",
      " 7   Category_1             802 non-null    object\n",
      " 8   Category_2             250 non-null    object\n",
      "dtypes: int64(1), object(8)\n",
      "memory usage: 74.0+ KB\n"
     ]
    }
   ],
   "source": [
    "df.info()"
   ]
  },
  {
   "cell_type": "code",
   "execution_count": 9,
   "id": "44f47780-9ec5-448a-92e7-328ab4d414cb",
   "metadata": {},
   "outputs": [],
   "source": [
    "df.columns = df.columns.str.strip().str.replace(r'[\\n\\t\\r]+', '', regex=True)"
   ]
  },
  {
   "cell_type": "code",
   "execution_count": null,
   "id": "413a9c70-40c1-44da-89d3-86e88738f0ee",
   "metadata": {},
   "outputs": [],
   "source": []
  },
  {
   "cell_type": "markdown",
   "id": "b7057fa4-ae65-4447-8e9f-feecd436db06",
   "metadata": {},
   "source": [
    "DATA CLEANING"
   ]
  },
  {
   "cell_type": "code",
   "execution_count": null,
   "id": "2edf119c-16d3-4e6c-a52e-02c449ca161e",
   "metadata": {},
   "outputs": [],
   "source": []
  },
  {
   "cell_type": "code",
   "execution_count": 10,
   "id": "7cff02e9-8ecc-4003-93d1-1697c515b313",
   "metadata": {},
   "outputs": [
    {
     "name": "stdout",
     "output_type": "stream",
     "text": [
      "Missing values after imputation:\n",
      "S.no                    0\n",
      "Instagram name          0\n",
      "Name                    0\n",
      "Subscribers             0\n",
      "Audience country        0\n",
      "Authentic engagement    0\n",
      "Engagement average      0\n",
      "Category_1              0\n",
      "Category_2              0\n",
      "dtype: int64\n"
     ]
    }
   ],
   "source": [
    "# Handle Missing Values\n",
    "df['Name'] = df['Name'].fillna(df['Instagram name'])  # Impute missing names\n",
    "df['Audience country'] = df['Audience country'].fillna(df['Audience country'].mode()[0])  # Impute with mode\n",
    "df['Category_1'] = df['Category_1'].fillna('unknown')\n",
    "df['Category_2'] = df['Category_2'].fillna('unknown')\n",
    "print(f\"Missing values after imputation:\\n{df.isnull().sum()}\")\n"
   ]
  },
  {
   "cell_type": "code",
   "execution_count": null,
   "id": "66b98f00-81d5-40a7-bce4-8f30a86ccb65",
   "metadata": {},
   "outputs": [],
   "source": []
  },
  {
   "cell_type": "code",
   "execution_count": 11,
   "id": "9ace74a7-933e-4863-b693-cf0fbc122cdc",
   "metadata": {
    "scrolled": true
   },
   "outputs": [],
   "source": [
    "# Drop rows with missing Subscribers or Engagement metrics\n",
    "df = df.dropna(subset=['Subscribers', 'Authentic engagement', 'Engagement average'])\n",
    "#Standardize Formats (Convert 'M' and 'K' to numeric)\n",
    "def convert_to_numeric(value):\n",
    "    if isinstance(value, str):\n",
    "        try:\n",
    "            if 'M' in value:\n",
    "                return float(value.replace('M', '')) * 1_000_000\n",
    "            elif 'K' in value:\n",
    "                return float(value.replace('K', '')) * 1_000\n",
    "            elif 'B' in value:\n",
    "                return float(value.replace('B', '')) * 1_000_000_000\n",
    "            else:\n",
    "                return float(value)\n",
    "        except ValueError:\n",
    "            return np.nan\n",
    "    return value\n",
    "\n",
    "# Apply conversion to relevant columns\n",
    "df['Subscribers'] = df['Subscribers'].apply(convert_to_numeric)\n",
    "df['Authentic engagement'] = df['Authentic engagement'].apply(convert_to_numeric)\n",
    "df['Engagement average'] = df['Engagement average'].apply(convert_to_numeric)"
   ]
  },
  {
   "cell_type": "code",
   "execution_count": 12,
   "id": "557c04c6-3d95-432b-b811-0a1bdb4d67f8",
   "metadata": {},
   "outputs": [],
   "source": [
    "#Remove Duplicates\n",
    "# Identify and drop duplicate rows based on Instagram name"
   ]
  },
  {
   "cell_type": "code",
   "execution_count": 13,
   "id": "2de237d2-c155-406d-93bd-cbe056658fa7",
   "metadata": {},
   "outputs": [
    {
     "name": "stdout",
     "output_type": "stream",
     "text": [
      "\n",
      "Number of duplicates before removal: 67\n"
     ]
    }
   ],
   "source": [
    "print(\"\\nNumber of duplicates before removal:\", df.duplicated(subset=['Instagram name']).sum())\n",
    "df = df.drop_duplicates(subset=['Instagram name'], keep='first')"
   ]
  },
  {
   "cell_type": "code",
   "execution_count": 14,
   "id": "bf6f93c6-85c4-4acb-bb35-7f7a43af8dac",
   "metadata": {},
   "outputs": [],
   "source": [
    "# Step 3.4: Clean Text\n",
    "# Standardize text in Audience country and categories\n",
    "df.reset_index(drop=True, inplace=True)\n",
    "df['Audience country'] = df['Audience country'].str.lower().str.strip()\n",
    "df['Category_1'] = df['Category_1'].str.lower().str.strip()\n",
    "df['Category_2'] = df['Category_2'].str.lower().str.strip()\n"
   ]
  },
  {
   "cell_type": "code",
   "execution_count": 15,
   "id": "d48fc63c-f52a-43ac-ad5c-4c2b2d21f270",
   "metadata": {},
   "outputs": [],
   "source": [
    "# Replace empty Category_1 with 'unknown'\n",
    "df['Category_1'] = df['Category_1'].fillna('unknown')"
   ]
  },
  {
   "cell_type": "code",
   "execution_count": 16,
   "id": "47dc2530-4cda-4401-9db7-ced53779fc8b",
   "metadata": {},
   "outputs": [
    {
     "name": "stdout",
     "output_type": "stream",
     "text": [
      "\n",
      "Data types after cleaning:\n",
      "S.no                      int64\n",
      "Instagram name           object\n",
      "Name                     object\n",
      "Subscribers             float64\n",
      "Audience country         object\n",
      "Authentic engagement    float64\n",
      "Engagement average      float64\n",
      "Category_1               object\n",
      "Category_2               object\n",
      "dtype: object\n",
      "\n",
      "Missing values after cleaning:\n",
      "S.no                    0\n",
      "Instagram name          0\n",
      "Name                    0\n",
      "Subscribers             0\n",
      "Audience country        0\n",
      "Authentic engagement    0\n",
      "Engagement average      0\n",
      "Category_1              0\n",
      "Category_2              0\n",
      "dtype: int64\n"
     ]
    }
   ],
   "source": [
    "# Verify data types and cleaned data\n",
    "print(\"\\nData types after cleaning:\")\n",
    "print(df.dtypes)\n",
    "print(\"\\nMissing values after cleaning:\")\n",
    "print(df.isnull().sum())"
   ]
  },
  {
   "cell_type": "code",
   "execution_count": 17,
   "id": "c9b26c6f-26ce-473a-9b95-319563ba825e",
   "metadata": {},
   "outputs": [
    {
     "name": "stdout",
     "output_type": "stream",
     "text": [
      "\n",
      "Cleaned dataset saved as 'cleaned_instagram_influencers.csv'\n"
     ]
    }
   ],
   "source": [
    "# Save cleaned dataset\n",
    "df.to_csv('cleaned_instagram_influencers.csv', index=False)\n",
    "print(\"\\nCleaned dataset saved as 'cleaned_instagram_influencers.csv'\")"
   ]
  },
  {
   "cell_type": "markdown",
   "id": "07833219-59a9-4028-b359-bae6d6154a07",
   "metadata": {},
   "source": [
    "EDA"
   ]
  },
  {
   "cell_type": "code",
   "execution_count": 18,
   "id": "1922152e-1360-4d7e-bd63-8bfa6b72a2e2",
   "metadata": {},
   "outputs": [
    {
     "name": "stdout",
     "output_type": "stream",
     "text": [
      "Summary Statistics:\n",
      "        Subscribers  Authentic engagement  Engagement average\n",
      "count  9.830000e+02          9.830000e+02        9.830000e+02\n",
      "mean   2.705910e+07          5.742409e+05        7.576832e+05\n",
      "std    4.537167e+07          9.683734e+05        1.081646e+06\n",
      "min    1.900000e+06          0.000000e+00        3.420000e+04\n",
      "25%    8.950000e+06          1.754500e+05        2.557000e+05\n",
      "50%    1.490000e+07          3.234000e+05        4.574000e+05\n",
      "75%    2.730000e+07          6.003000e+05        8.192500e+05\n",
      "max    5.466000e+08          1.270000e+07        1.270000e+07\n"
     ]
    }
   ],
   "source": [
    "#  Summary Statistics\n",
    "print(\"Summary Statistics:\")\n",
    "summary_stats = df[['Subscribers', 'Authentic engagement', 'Engagement average']].describe()\n",
    "print(summary_stats)"
   ]
  },
  {
   "cell_type": "code",
   "execution_count": 19,
   "id": "30335149-ce2f-4911-8060-2516eaea6f7f",
   "metadata": {},
   "outputs": [],
   "source": [
    "#Distribution Analysis\n",
    "# Calculate Engagement Rate\n",
    "df['Engagement Rate'] = (df['Authentic engagement'] / df['Subscribers']) * 100"
   ]
  },
  {
   "cell_type": "code",
   "execution_count": 20,
   "id": "a9e7cf9c-6465-4574-b80f-90f539ca250e",
   "metadata": {},
   "outputs": [
    {
     "name": "stdout",
     "output_type": "stream",
     "text": [
      "\n",
      "Number of outliers in Engagement Rate: 93\n",
      "Top 5 outliers by Engagement Rate:\n",
      "    Instagram name  Engagement Rate\n",
      "331  haechanahceah        39.130435\n",
      "766     harshasai_        35.514815\n",
      "93         yawnzzn        28.037383\n",
      "604   everyone_woo        27.514706\n",
      "805    junhui_moon        27.506897\n"
     ]
    }
   ],
   "source": [
    "# Identify outliers using IQR for Engagement Rate\n",
    "Q1 = df['Engagement Rate'].quantile(0.25)\n",
    "Q3 = df['Engagement Rate'].quantile(0.75)\n",
    "IQR = Q3 - Q1\n",
    "outliers = df[(df['Engagement Rate'] < (Q1 - 1.5 * IQR)) | (df['Engagement Rate'] > (Q3 + 1.5 * IQR))]\n",
    "print(\"\\nNumber of outliers in Engagement Rate:\", len(outliers))\n",
    "print(\"Top 5 outliers by Engagement Rate:\")\n",
    "print(outliers[['Instagram name', 'Engagement Rate']].sort_values(by='Engagement Rate', ascending=False).head())"
   ]
  },
  {
   "cell_type": "code",
   "execution_count": 21,
   "id": "7cb649cf-9255-4b22-9846-4388eb8bd631",
   "metadata": {},
   "outputs": [
    {
     "name": "stdout",
     "output_type": "stream",
     "text": [
      "\n",
      "Category Analysis (Top 5 by Engagement Rate):\n",
      "            Category_1   Subscribers  Authentic engagement  \\\n",
      "3   business & careers  1.322500e+07         917075.000000   \n",
      "21         photography  6.936667e+07         398166.666667   \n",
      "16           lifestyle  1.565915e+07         677011.971831   \n",
      "27             unknown  2.526807e+07         840742.436975   \n",
      "8            education  7.000000e+06         379000.000000   \n",
      "\n",
      "    Engagement average  Engagement Rate  \n",
      "3         1.125200e+06         9.795297  \n",
      "21        6.033222e+05         7.832382  \n",
      "16        8.804162e+05         7.012014  \n",
      "27        1.079749e+06         5.997804  \n",
      "8         5.555000e+05         5.414286  \n"
     ]
    }
   ],
   "source": [
    "#Category Analysis\n",
    "# Group by Category_1 to compute average metrics\n",
    "category_stats = df.groupby('Category_1').agg({\n",
    "    'Subscribers': 'mean',\n",
    "    'Authentic engagement': 'mean',\n",
    "    'Engagement average': 'mean',\n",
    "    'Engagement Rate': 'mean'\n",
    "}).reset_index()\n",
    "print(\"\\nCategory Analysis (Top 5 by Engagement Rate):\")\n",
    "print(category_stats.sort_values(by='Engagement Rate', ascending=False).head())"
   ]
  },
  {
   "cell_type": "code",
   "execution_count": 22,
   "id": "4eb8f547-1edc-49bd-ae9e-b4854b83e84e",
   "metadata": {},
   "outputs": [
    {
     "name": "stdout",
     "output_type": "stream",
     "text": [
      "\n",
      "Geographic Trends (Top 5 Countries by Influencer Count):\n",
      "   Audience country   Subscribers  Engagement average  Engagement Rate  \\\n",
      "32    united states  3.429062e+07        7.266448e+05         2.974324   \n",
      "10            india  3.371159e+07        7.152561e+05         3.706294   \n",
      "3            brazil  2.786434e+07        6.063846e+05         2.771152   \n",
      "11        indonesia  1.914857e+07        1.035872e+06         7.792638   \n",
      "16           mexico  1.895278e+07        9.213194e+05         5.006127   \n",
      "\n",
      "    Influencer Count  \n",
      "32               288  \n",
      "10               164  \n",
      "3                143  \n",
      "11               140  \n",
      "16                36  \n"
     ]
    }
   ],
   "source": [
    "# Geographic Trends\n",
    "# Group by Audience country to analyze engagement\n",
    "geo_stats = df.groupby('Audience country').agg({\n",
    "    'Subscribers': 'mean',\n",
    "    'Engagement average': 'mean',\n",
    "    'Engagement Rate': 'mean',\n",
    "    'Instagram name': 'count'\n",
    "}).rename(columns={'Instagram name': 'Influencer Count'}).reset_index()\n",
    "print(\"\\nGeographic Trends (Top 5 Countries by Influencer Count):\")\n",
    "print(geo_stats.sort_values(by='Influencer Count', ascending=False).head())"
   ]
  },
  {
   "cell_type": "code",
   "execution_count": 23,
   "id": "757d83b3-0565-4046-9982-5ea79f41e604",
   "metadata": {},
   "outputs": [
    {
     "name": "stdout",
     "output_type": "stream",
     "text": [
      "\n",
      "Correlation Matrix:\n",
      "                      Subscribers  Authentic engagement  Engagement average  \\\n",
      "Subscribers              1.000000              0.220917            0.251063   \n",
      "Authentic engagement     0.220917              1.000000            0.983391   \n",
      "Engagement average       0.251063              0.983391            1.000000   \n",
      "Engagement Rate         -0.227369              0.474222            0.473171   \n",
      "\n",
      "                      Engagement Rate  \n",
      "Subscribers                 -0.227369  \n",
      "Authentic engagement         0.474222  \n",
      "Engagement average           0.473171  \n",
      "Engagement Rate              1.000000  \n"
     ]
    }
   ],
   "source": [
    "# Correlation Analysis\n",
    "correlation_matrix = df[['Subscribers', 'Authentic engagement', 'Engagement average', 'Engagement Rate']].corr()\n",
    "print(\"\\nCorrelation Matrix:\")\n",
    "print(correlation_matrix)"
   ]
  },
  {
   "cell_type": "code",
   "execution_count": 24,
   "id": "68cdcb97-2e1d-4960-bf63-b3348f445653",
   "metadata": {},
   "outputs": [
    {
     "name": "stdout",
     "output_type": "stream",
     "text": [
      "\n",
      "EDA results saved as 'category_stats.csv' and 'geo_stats.csv'\n"
     ]
    }
   ],
   "source": [
    "# Save EDA results\n",
    "category_stats.to_csv('category_stats.csv', index=False)\n",
    "geo_stats.to_csv('geo_stats.csv', index=False)\n",
    "print(\"\\nEDA results saved as 'category_stats.csv' and 'geo_stats.csv'\")"
   ]
  },
  {
   "cell_type": "markdown",
   "id": "cabac4bc-9fbd-455f-b98f-868c0eac0063",
   "metadata": {},
   "source": [
    "DATA TRANSFORMATION"
   ]
  },
  {
   "cell_type": "code",
   "execution_count": 25,
   "id": "c570214f-010b-4a1b-805e-de2f2ee921b4",
   "metadata": {},
   "outputs": [],
   "source": [
    "# Create binary column for high engagement (above median Engagement Rate)\n",
    "median_engagement_rate = df['Engagement Rate'].median()\n",
    "df['High Engagement'] = df['Engagement Rate'].apply(lambda x: 1 if x > median_engagement_rate else 0)"
   ]
  },
  {
   "cell_type": "code",
   "execution_count": 26,
   "id": "4d0551bb-700b-40a7-a277-08f4e642e734",
   "metadata": {},
   "outputs": [],
   "source": [
    "# Create Primary Category by prioritizing Category_1 over Category_2\n",
    "df['Primary Category'] = df['Category_1'].where(df['Category_1'] != 'unknown', df['Category_2'])"
   ]
  },
  {
   "cell_type": "code",
   "execution_count": 27,
   "id": "346abbf0-a5b3-4069-b9e6-f7eb57908c04",
   "metadata": {},
   "outputs": [],
   "source": [
    "\n",
    "\n",
    "# Create Subscriber Tier (Micro: <10M, Mid: 10M-50M, Mega: >50M)\n",
    "\n",
    "def assign_tier(subscribers):\n",
    "    if subscribers < 10_000_000:\n",
    "        return 'Micro'\n",
    "    elif subscribers <= 50_000_000:\n",
    "        return 'Mid'\n",
    "    else:\n",
    "        return 'Mega'\n",
    "\n",
    "df['Subscriber Tier'] = df['Subscribers'].apply(assign_tier)\n"
   ]
  },
  {
   "cell_type": "code",
   "execution_count": 28,
   "id": "ccb5140b-643e-42bc-903e-6d5947073cab",
   "metadata": {},
   "outputs": [],
   "source": [
    "#  Normalization\n",
    "# Min-Max scaling for Subscribers, Authentic engagement, and Engagement average\n",
    "def min_max_scale(column):\n",
    "    return (column - column.min()) / (column.max() - column.min())\n",
    "\n",
    "df['Subscribers_scaled'] = min_max_scale(df['Subscribers'])\n",
    "df['Authentic engagement_scaled'] = min_max_scale(df['Authentic engagement'])\n",
    "df['Engagement average_scaled'] = min_max_scale(df['Engagement average'])"
   ]
  },
  {
   "cell_type": "code",
   "execution_count": 29,
   "id": "deb1ffdd-8de0-45c6-b4bd-ed4f761ba5e1",
   "metadata": {},
   "outputs": [],
   "source": [
    "# Aggregation\n",
    "# Aggregate by Primary Category\n",
    "category_agg = df.groupby('Primary Category').agg({\n",
    "    'Subscribers': 'mean',\n",
    "    'Engagement Rate': 'mean',\n",
    "    'High Engagement': 'mean',\n",
    "    'Instagram name': 'count'\n",
    "}).rename(columns={'Instagram name': 'Influencer Count'}).reset_index()"
   ]
  },
  {
   "cell_type": "code",
   "execution_count": 30,
   "id": "348aad94-55ed-47ee-a340-73f818e09c36",
   "metadata": {},
   "outputs": [],
   "source": [
    "# Aggregate by Audience country\n",
    "country_agg = df.groupby('Audience country').agg({\n",
    "    'Subscribers': 'mean',\n",
    "    'Engagement Rate': 'mean',\n",
    "    'High Engagement': 'mean',\n",
    "    'Instagram name': 'count'\n",
    "}).rename(columns={'Instagram name': 'Influencer Count'}).reset_index()"
   ]
  },
  {
   "cell_type": "code",
   "execution_count": 31,
   "id": "79c2dcb1-a4ff-4aa9-8f70-63fb3cff3f9c",
   "metadata": {},
   "outputs": [],
   "source": [
    "# Aggregate by Subscriber Tier\n",
    "tier_agg = df.groupby('Subscriber Tier').agg({\n",
    "    'Subscribers': 'mean',\n",
    "    'Engagement Rate': 'mean',\n",
    "    'High Engagement': 'mean',\n",
    "    'Instagram name': 'count'\n",
    "}).rename(columns={'Instagram name': 'Influencer Count'}).reset_index()"
   ]
  },
  {
   "cell_type": "code",
   "execution_count": 32,
   "id": "97dd54b5-c21c-4018-af6c-d69736b663f7",
   "metadata": {},
   "outputs": [
    {
     "name": "stdout",
     "output_type": "stream",
     "text": [
      "Feature Engineering - Sample of New Columns:\n",
      "  Instagram name  Engagement Rate  High Engagement           Primary Category  \\\n",
      "0      cristiano         1.046244                0         sports with a ball   \n",
      "1    kyliejenner         0.950829                0                    fashion   \n",
      "2   arianagrande         0.879854                0                    unknown   \n",
      "3       leomessi         0.752928                0         sports with a ball   \n",
      "4        zendaya         2.845797                1  cinema & actors/actresses   \n",
      "\n",
      "  Subscriber Tier  \n",
      "0            Mega  \n",
      "1            Mega  \n",
      "2            Mega  \n",
      "3            Mega  \n",
      "4            Mega  \n",
      "\n",
      "Category Aggregation (Top 5 by Engagement Rate):\n",
      "      Primary Category   Subscribers  Engagement Rate  High Engagement  \\\n",
      "3   business & careers  1.322500e+07         9.795297         0.500000   \n",
      "21         photography  6.936667e+07         7.832382         0.666667   \n",
      "16           lifestyle  1.565915e+07         7.012014         0.746479   \n",
      "27             unknown  2.526807e+07         5.997804         0.617647   \n",
      "8            education  7.000000e+06         5.414286         1.000000   \n",
      "\n",
      "    Influencer Count  \n",
      "3                  4  \n",
      "21                 9  \n",
      "16               142  \n",
      "27               238  \n",
      "8                  1  \n",
      "\n",
      "Country Aggregation (Top 5 by Influencer Count):\n",
      "   Audience country   Subscribers  Engagement Rate  High Engagement  \\\n",
      "32    united states  3.429062e+07         2.974324         0.416667   \n",
      "10            india  3.371159e+07         3.706294         0.469512   \n",
      "3            brazil  2.786434e+07         2.771152         0.370629   \n",
      "11        indonesia  1.914857e+07         7.792638         0.757143   \n",
      "16           mexico  1.895278e+07         5.006127         0.722222   \n",
      "\n",
      "    Influencer Count  \n",
      "32               288  \n",
      "10               164  \n",
      "3                143  \n",
      "11               140  \n",
      "16                36  \n",
      "\n",
      "Subscriber Tier Aggregation:\n",
      "  Subscriber Tier   Subscribers  Engagement Rate  High Engagement  \\\n",
      "0            Mega  1.174950e+08         1.454805         0.148515   \n",
      "1           Micro  6.868367e+06         8.362496         0.925170   \n",
      "2             Mid  2.162041e+07         2.547799         0.346939   \n",
      "\n",
      "   Influencer Count  \n",
      "0               101  \n",
      "1               294  \n",
      "2               588  \n"
     ]
    }
   ],
   "source": [
    "# Print results\n",
    "print(\"Feature Engineering - Sample of New Columns:\")\n",
    "print(df[['Instagram name', 'Engagement Rate', 'High Engagement', 'Primary Category', 'Subscriber Tier']].head())\n",
    "\n",
    "print(\"\\nCategory Aggregation (Top 5 by Engagement Rate):\")\n",
    "print(category_agg.sort_values(by='Engagement Rate', ascending=False).head())\n",
    "\n",
    "print(\"\\nCountry Aggregation (Top 5 by Influencer Count):\")\n",
    "print(country_agg.sort_values(by='Influencer Count', ascending=False).head())\n",
    "\n",
    "print(\"\\nSubscriber Tier Aggregation:\")\n",
    "print(tier_agg)"
   ]
  },
  {
   "cell_type": "code",
   "execution_count": 33,
   "id": "dda59cf4-5c5b-4c8b-9ba0-5b1ff18c2453",
   "metadata": {},
   "outputs": [
    {
     "name": "stdout",
     "output_type": "stream",
     "text": [
      "\n",
      "Transformed dataset saved as 'transformed_instagram_influencers.csv'\n",
      "Aggregations saved as 'category_agg.csv', 'country_agg.csv', and 'tier_agg.csv'\n"
     ]
    }
   ],
   "source": [
    "# Save transformed dataset and aggregations\n",
    "df.to_csv('transformed_instagram_influencers.csv', index=False)\n",
    "category_agg.to_csv('category_agg.csv', index=False)\n",
    "country_agg.to_csv('country_agg.csv', index=False)\n",
    "tier_agg.to_csv('tier_agg.csv', index=False)\n",
    "print(\"\\nTransformed dataset saved as 'transformed_instagram_influencers.csv'\")\n",
    "print(\"Aggregations saved as 'category_agg.csv', 'country_agg.csv', and 'tier_agg.csv'\")"
   ]
  },
  {
   "cell_type": "markdown",
   "id": "9f1e1655-a175-46a1-ac72-dad4fd311a16",
   "metadata": {},
   "source": [
    "DATA VISUALIZATION"
   ]
  },
  {
   "cell_type": "code",
   "execution_count": 34,
   "id": "62c476ca-b1e4-4e55-bd1c-18f809656634",
   "metadata": {},
   "outputs": [],
   "source": [
    "import seaborn as sns\n",
    "import matplotlib.pyplot as plt\n",
    "\n"
   ]
  },
  {
   "cell_type": "code",
   "execution_count": 35,
   "id": "08d9be7c-8c93-4b99-a80e-6c1f11ef265e",
   "metadata": {},
   "outputs": [],
   "source": [
    "sns.set_style(\"whitegrid\")\n",
    "sns.set_palette(\"muted\")"
   ]
  },
  {
   "cell_type": "code",
   "execution_count": 36,
   "id": "2a73e772-9955-4e61-b41a-604510db5181",
   "metadata": {},
   "outputs": [
    {
     "ename": "TypeError",
     "evalue": "text() got multiple values for argument 'x'",
     "output_type": "error",
     "traceback": [
      "\u001b[1;31m---------------------------------------------------------------------------\u001b[0m",
      "\u001b[1;31mTypeError\u001b[0m                                 Traceback (most recent call last)",
      "Cell \u001b[1;32mIn[36], line 12\u001b[0m\n\u001b[0;32m     10\u001b[0m \u001b[38;5;28;01mfor\u001b[39;00m p \u001b[38;5;129;01min\u001b[39;00m bar\u001b[38;5;241m.\u001b[39mpatches:  \u001b[38;5;66;03m# Add annotations\u001b[39;00m\n\u001b[0;32m     11\u001b[0m     width \u001b[38;5;241m=\u001b[39m p\u001b[38;5;241m.\u001b[39mget_width()\n\u001b[1;32m---> 12\u001b[0m     plt\u001b[38;5;241m.\u001b[39mtext(width, p\u001b[38;5;241m.\u001b[39mget_y() \u001b[38;5;241m+\u001b[39m p\u001b[38;5;241m.\u001b[39mget_height()\u001b[38;5;241m/\u001b[39m\u001b[38;5;241m2\u001b[39m, \u001b[38;5;124mf\u001b[39m\u001b[38;5;124m'\u001b[39m\u001b[38;5;132;01m{\u001b[39;00mwidth\u001b[38;5;241m/\u001b[39m\u001b[38;5;241m1e6\u001b[39m\u001b[38;5;132;01m:\u001b[39;00m\u001b[38;5;124m.2f\u001b[39m\u001b[38;5;132;01m}\u001b[39;00m\u001b[38;5;124mM\u001b[39m\u001b[38;5;124m'\u001b[39m, \n\u001b[0;32m     13\u001b[0m              ha\u001b[38;5;241m=\u001b[39m\u001b[38;5;124m'\u001b[39m\u001b[38;5;124mleft\u001b[39m\u001b[38;5;124m'\u001b[39m, va\u001b[38;5;241m=\u001b[39m\u001b[38;5;124m'\u001b[39m\u001b[38;5;124mcenter\u001b[39m\u001b[38;5;124m'\u001b[39m, x\u001b[38;5;241m=\u001b[39mwidth\u001b[38;5;241m+\u001b[39m\u001b[38;5;241m0.05e6\u001b[39m)\n\u001b[0;32m     14\u001b[0m plt\u001b[38;5;241m.\u001b[39mtight_layout()\n\u001b[0;32m     15\u001b[0m plt\u001b[38;5;241m.\u001b[39mshow()\n",
      "\u001b[1;31mTypeError\u001b[0m: text() got multiple values for argument 'x'"
     ]
    },
    {
     "data": {
      "image/png": "[encoded data removed]",
      "text/plain": [
       "<Figure size 1000x600 with 1 Axes>"
      ]
     },
     "metadata": {},
     "output_type": "display_data"
    }
   ],
   "source": [
    "# Static Visualizations (Seaborn, Matplotlib)\n",
    "# Bar Plot: Top 10 Influencers by Engagement Average\n",
    "top_10_influencers = df.nlargest(10, 'Engagement average')[['Instagram name', 'Engagement average', 'Category_1']]\n",
    "plt.figure(figsize=(10, 6))\n",
    "bar = sns.barplot(x='Engagement average', y='Instagram name', hue='Category_1', data=top_10_influencers)\n",
    "plt.title('Top 10 Influencers by Engagement Average', fontsize=14, pad=15)\n",
    "plt.xlabel('Engagement Average (Millions)', fontsize=12)\n",
    "plt.ylabel('Instagram Name', fontsize=12)\n",
    "plt.legend(title='Category', bbox_to_anchor=(1.05, 1), loc='upper left')\n",
    "for p in bar.patches:  # Add annotations\n",
    "    width = p.get_width()\n",
    "    plt.text(width, p.get_y() + p.get_height()/2, f'{width/1e6:.2f}M', \n",
    "             ha='left', va='center', x=width+0.05e6)\n",
    "plt.tight_layout()\n",
    "plt.show()\n",
    "plt.close()"
   ]
  },
  {
   "cell_type": "code",
   "execution_count": null,
   "id": "32011bac-4fac-48f9-933f-902de6edc1b7",
   "metadata": {},
   "outputs": [],
   "source": [
    "# Pie Chart: Distribution of Top 7 Primary Categories\n",
    "top_7_categories = df['Category_1'].value_counts().nlargest(7)\n",
    "plt.figure(figsize=(8, 8))\n",
    "plt.pie(top_7_categories, labels=top_7_categories.index, autopct='%1.1f%%', \n",
    "        startangle=140, colors=sns.color_palette(\"pastel\"), explode=[0.1] + [0]*6)\n",
    "plt.title('Distribution of Top 7 Primary Categories', fontsize=14)\n",
    "plt.tight_layout()\n",
    "plt.show()\n",
    "plt.close()"
   ]
  },
  {
   "cell_type": "code",
   "execution_count": null,
   "id": "452a8dfd-4bfe-4ba9-a072-29bd230d7a09",
   "metadata": {},
   "outputs": [],
   "source": [
    "# Scatter Plot: Subscribers vs. Engagement Average, Colored by Primary Category\n",
    "\n",
    "fig, ax = plt.subplots(figsize=(14, 8))\n",
    "sns.scatterplot(x='Subscribers', y='Engagement average', hue='Category_1', \n",
    "                size='Engagement Rate', sizes=(50, 500), data=df, alpha=0.6)\n",
    "plt.xscale('log')  \n",
    "plt.yscale('log')  \n",
    "plt.title('Subscribers vs. Engagement Average by Category', fontsize=14)\n",
    "plt.xlabel('Subscribers (Log Scale)', fontsize=12)\n",
    "plt.ylabel('Engagement Average (Log Scale)', fontsize=12)\n",
    "plt.legend(bbox_to_anchor=(1.05, 1), loc='upper left', title='Category',borderaxespad=0)\n",
    "plt.tight_layout()\n",
    "plt.tight_layout(rect=[0, 0, 0.85, 1])\n",
    "plt.show()\n",
    "plt.close()"
   ]
  },
  {
   "cell_type": "code",
   "execution_count": null,
   "id": "17a133ae-4cf6-4378-8fdf-1b7f1fc1a214",
   "metadata": {},
   "outputs": [],
   "source": [
    "# Heatmap: Correlation Matrix\n",
    "numeric_cols = ['Subscribers', 'Authentic engagement', 'Engagement average', 'Engagement Rate']\n",
    "correlation_matrix = df[numeric_cols].corr()\n",
    "print(\"Correlation Matrix of Numeric Features:\")\n",
    "print(correlation_matrix)\n",
    "plt.figure(figsize=(8, 6))\n",
    "sns.heatmap(correlation_matrix, annot=True, cmap='coolwarm', vmin=-1, vmax=1, center=0)\n",
    "plt.title('Correlation Matrix of Numeric Features')\n",
    "plt.tight_layout()\n",
    "plt.show()\n",
    "plt.close()"
   ]
  },
  {
   "cell_type": "code",
   "execution_count": null,
   "id": "a32345e2-6583-4cb1-9b99-0150ac0329b1",
   "metadata": {},
   "outputs": [],
   "source": [
    "import plotly.express as px\n",
    "from plotly.subplots import make_subplots\n",
    "import pandas as pd\n",
    "\n",
    "# Prepare top_7_categories\n",
    "top_7_categories = df['Category_1'].value_counts().nlargest(7).reset_index()\n",
    "top_7_categories.columns = ['Category', 'Count']\n",
    "\n",
    "# Initialize subplot\n",
    "fig = make_subplots(rows=1, cols=2, \n",
    "                    subplot_titles=(\"Top 10 Influencers by Engagement\", \"Category Distribution\"),\n",
    "                    specs=[[{\"type\": \"bar\"}, {\"type\": \"pie\"}]])\n",
    "\n",
    "# Get unique categories and countries\n",
    "categories = df['Category_1'].unique()\n",
    "countries = df['Audience country'].dropna().unique()\n",
    "\n",
    "# Track which categories and countries have traces\n",
    "category_bar_indices = {}\n",
    "category_pie_indices = {}\n",
    "country_bar_indices = {}\n",
    "country_pie_indices = {}\n",
    "\n",
    "# Add bar traces for each category\n",
    "bar_traces = []\n",
    "for idx, cat in enumerate(categories):\n",
    "    filtered_df = df[df['Category_1'] == cat].nlargest(10, 'Engagement average')\n",
    "    if not filtered_df.empty:\n",
    "        bar = px.bar(filtered_df, x='Engagement average', y='Instagram name', color='Category_1',\n",
    "                     text_auto='.2s', labels={'Engagement average': 'Engagement (Millions)'})\n",
    "        trace = bar.data[0]\n",
    "        trace.visible = False\n",
    "        category_bar_indices[cat] = len(bar_traces)\n",
    "        bar_traces.append(trace)\n",
    "        fig.add_trace(trace, row=1, col=1)\n",
    "\n",
    "# Add bar traces for each country\n",
    "for idx, country in enumerate(countries):\n",
    "    filtered_df = df[df['Audience country'] == country].nlargest(10, 'Engagement average')\n",
    "    if not filtered_df.empty:\n",
    "        bar = px.bar(filtered_df, x='Engagement average', y='Instagram name', color='Category_1',\n",
    "                     text_auto='.2s', labels={'Engagement average': 'Engagement (Millions)'})\n",
    "        trace = bar.data[0]\n",
    "        trace.visible = False\n",
    "        country_bar_indices[country] = len(bar_traces)\n",
    "        bar_traces.append(trace)\n",
    "        fig.add_trace(trace, row=1, col=1)\n",
    "\n",
    "# Default bar trace\n",
    "default_bar = px.bar(df.nlargest(10, 'Engagement average'), x='Engagement average', y='Instagram name',\n",
    "                     color='Category_1', text_auto='.2s', labels={'Engagement average': 'Engagement (Millions)'})\n",
    "default_bar_trace = default_bar.data[0]\n",
    "default_bar_trace.visible = True\n",
    "default_bar_index = len(bar_traces)\n",
    "bar_traces.append(default_bar_trace)\n",
    "fig.add_trace(default_bar_trace, row=1, col=1)\n",
    "\n",
    "# Add pie traces for each category\n",
    "pie_traces = []\n",
    "for idx, cat in enumerate(categories):\n",
    "    filtered_counts = df[df['Category_1'] == cat]['Category_1'].value_counts().reindex(top_7_categories['Category']).fillna(0)\n",
    "    if filtered_counts.sum() > 0:\n",
    "        pie = px.pie(names=top_7_categories['Category'], values=filtered_counts,\n",
    "                     color_discrete_sequence=px.colors.qualitative.Pastel)\n",
    "        trace = pie.data[0]\n",
    "        trace.visible = False\n",
    "        category_pie_indices[cat] = len(pie_traces)\n",
    "        pie_traces.append(trace)\n",
    "        fig.add_trace(trace, row=1, col=2)\n",
    "\n",
    "# Add pie traces for each country\n",
    "for idx, country in enumerate(countries):\n",
    "    filtered_counts = df[df['Audience country'] == country]['Category_1'].value_counts().reindex(top_7_categories['Category']).fillna(0)\n",
    "    if filtered_counts.sum() > 0:\n",
    "        pie = px.pie(names=top_7_categories['Category'], values=filtered_counts,\n",
    "                     color_discrete_sequence=px.colors.qualitative.Pastel)\n",
    "        trace = pie.data[0]\n",
    "        trace.visible = False\n",
    "        country_pie_indices[country] = len(pie_traces)\n",
    "        pie_traces.append(trace)\n",
    "        fig.add_trace(trace, row=1, col=2)\n",
    "\n",
    "# Default pie trace\n",
    "default_pie = px.pie(top_7_categories, values='Count', names='Category',\n",
    "                     color_discrete_sequence=px.colors.qualitative.Pastel)\n",
    "default_pie_trace = default_pie.data[0]\n",
    "default_pie_trace.visible = True\n",
    "default_pie_index = len(pie_traces)\n",
    "pie_traces.append(default_pie_trace)\n",
    "fig.add_trace(default_pie_trace, row=1, col=2)\n",
    "\n",
    "# Create dropdown menus\n",
    "category_buttons = [\n",
    "    dict(label=\"All Categories\", method=\"update\", args=[{\n",
    "        \"visible\": [True if i == default_bar_index else False for i in range(len(bar_traces))] +\n",
    "                   [True if i == default_pie_index else False for i in range(len(pie_traces))]\n",
    "    }])\n",
    "]\n",
    "for cat in categories:\n",
    "    if cat in category_bar_indices and cat in category_pie_indices:\n",
    "        visible = [False] * len(bar_traces)\n",
    "        visible[category_bar_indices[cat]] = True\n",
    "        pie_visible = [False] * len(pie_traces)\n",
    "        pie_visible[category_pie_indices[cat]] = True\n",
    "        category_buttons.append(\n",
    "            dict(label=cat, method=\"update\", args=[{\"visible\": visible + pie_visible}])\n",
    "        )\n",
    "\n",
    "country_buttons = [\n",
    "    dict(label=\"All Countries\", method=\"update\", args=[{\n",
    "        \"visible\": [True if i == default_bar_index else False for i in range(len(bar_traces))] +\n",
    "                   [True if i == default_pie_index else False for i in range(len(pie_traces))]\n",
    "    }])\n",
    "]\n",
    "for country in countries:\n",
    "    if country in country_bar_indices and country in country_pie_indices:\n",
    "        visible = [False] * len(bar_traces)\n",
    "        visible[country_bar_indices[country]] = True\n",
    "        pie_visible = [False] * len(pie_traces)\n",
    "        pie_visible[country_pie_indices[country]] = True\n",
    "        country_buttons.append(\n",
    "            dict(label=country, method=\"update\", args=[{\"visible\": visible + pie_visible}])\n",
    "        )\n",
    "\n",
    "# Update layout\n",
    "fig.update_layout(\n",
    "    title_text=\"Instagram Influencer Analytics Dashboard\",\n",
    "    title_x=0.5,\n",
    "    showlegend=True,\n",
    "    height=600,\n",
    "    width=1200,\n",
    "    template='plotly_white',\n",
    "    updatemenus=[\n",
    "        dict(buttons=category_buttons,\n",
    "             direction=\"down\", showactive=True, x=0.1, y=1.2, xanchor=\"left\", yanchor=\"top\",\n",
    "             font=dict(size=12), bgcolor='rgba(255,255,255,0.8)'),\n",
    "        dict(buttons=country_buttons,\n",
    "             direction=\"down\", showactive=True, x=0.5, y=1.2, xanchor=\"left\", yanchor=\"top\",\n",
    "             font=dict(size=12), bgcolor='rgba(255,255,255,0.8)')\n",
    "    ],\n",
    "    font=dict(family=\"Arial\", size=12),\n",
    "    margin=dict(t=150)\n",
    ")\n",
    "\n",
    "# Update axes\n",
    "fig.update_xaxes(title_text=\"Engagement (Millions)\", row=1, col=1, tickformat=\".2s\")\n",
    "fig.update_yaxes(title_text=\"Influencer\", row=1, col=1)\n",
    "\n",
    "# Save and show\n",
    "fig.write_html('influencer_dashboard.html')\n",
    "fig.show()"
   ]
  },
  {
   "cell_type": "code",
   "execution_count": null,
   "id": "3eb0016f-8089-420a-a633-43ce8962b6f7",
   "metadata": {},
   "outputs": [],
   "source": [
    "#Word Cloud for Categories\n",
    "# Combine Category_1 and Category_2 for word cloud\n",
    "from wordcloud import WordCloud\n",
    "category_text = ' '.join(df['Primary Category'].dropna())\n",
    "wordcloud = WordCloud(width=800, height=400, background_color='white').generate(category_text)\n",
    "plt.figure(figsize=(10, 5))\n",
    "plt.imshow(wordcloud, interpolation='bilinear')\n",
    "plt.axis('off')\n",
    "plt.title('Word Cloud of Primary Categories')\n",
    "plt.show()"
   ]
  },
  {
   "cell_type": "code",
   "execution_count": 37,
   "id": "25ec970e-628d-43bf-8033-be47dd200442",
   "metadata": {},
   "outputs": [
    {
     "name": "stdout",
     "output_type": "stream",
     "text": [
      "['S.no', 'Instagram name', ' Name', 'Subscribers', 'Audience country', 'Authentic engagement\\n', 'Engagement average\\r\\n', 'Category_1', 'Category_2']\n"
     ]
    }
   ],
   "source": [
    "import pandas as pd\n",
    "df = pd.read_csv(\"dataset.csv\")\n",
    "print(df.columns.tolist())\n"
   ]
  },
  {
   "cell_type": "code",
   "execution_count": null,
   "id": "d7a33967-1ce5-4ab0-a46b-a11dc1972848",
   "metadata": {},
   "outputs": [],
   "source": []
  },
  {
   "cell_type": "code",
   "execution_count": null,
   "id": "a1b4744f-6aae-4055-b467-ef09d6f6543a",
   "metadata": {},
   "outputs": [],
   "source": []
  },
  {
   "cell_type": "code",
   "execution_count": null,
   "id": "6a8c0742-c1e5-4f82-9d06-370a89817aa7",
   "metadata": {},
   "outputs": [],
   "source": []
  },
  {
   "cell_type": "code",
   "execution_count": null,
   "id": "6df17592-d556-428d-825b-b6e364083562",
   "metadata": {},
   "outputs": [],
   "source": []
  },
  {
   "cell_type": "code",
   "execution_count": null,
   "id": "e9917be0-64ce-4582-b25d-2b9d04535cbe",
   "metadata": {},
   "outputs": [],
   "source": []
  },
  {
   "cell_type": "code",
   "execution_count": null,
   "id": "8b468cb5-4b0b-4cd0-9788-be1fb2e9b3ab",
   "metadata": {},
   "outputs": [],
   "source": []
  },
  {
   "cell_type": "code",
   "execution_count": null,
   "id": "9f917ff4-2274-4aa8-8810-3fb959276255",
   "metadata": {},
   "outputs": [],
   "source": []
  },
  {
   "cell_type": "code",
   "execution_count": null,
   "id": "18303bf7-0311-4dc9-af6a-2c18a963633a",
   "metadata": {},
   "outputs": [],
   "source": []
  },
  {
   "cell_type": "code",
   "execution_count": null,
   "id": "58b9af14-2492-4e4d-b0f6-fd47b3993e36",
   "metadata": {},
   "outputs": [],
   "source": []
  },
  {
   "cell_type": "code",
   "execution_count": null,
   "id": "74dc27a4-9630-492b-96f2-9e91a7e51667",
   "metadata": {},
   "outputs": [],
   "source": []
  },
  {
   "cell_type": "code",
   "execution_count": null,
   "id": "1c8b34c3-0082-40b6-ad72-61cc7bfc5cb4",
   "metadata": {},
   "outputs": [],
   "source": []
  },
  {
   "cell_type": "code",
   "execution_count": null,
   "id": "9bc30a3f-c7ee-4952-9790-f76814abea4f",
   "metadata": {},
   "outputs": [],
   "source": []
  },
  {
   "cell_type": "code",
   "execution_count": null,
   "id": "06d5f007-e9ad-431e-8591-db23d52e3b2a",
   "metadata": {},
   "outputs": [],
   "source": []
  },
  {
   "cell_type": "code",
   "execution_count": null,
   "id": "5d9ffbdb-e24d-4f87-9101-b38dd82db2d6",
   "metadata": {},
   "outputs": [],
   "source": []
  },
  {
   "cell_type": "code",
   "execution_count": null,
   "id": "e0760cb0-ae46-4ee4-a084-abe33e513614",
   "metadata": {},
   "outputs": [],
   "source": []
  },
  {
   "cell_type": "code",
   "execution_count": null,
   "id": "bf47ead8-2ae3-4bda-82c7-f70bfab4764d",
   "metadata": {},
   "outputs": [],
   "source": []
  },
  {
   "cell_type": "code",
   "execution_count": null,
   "id": "d97ff808-35a3-4740-bad8-7201e59a3c00",
   "metadata": {},
   "outputs": [],
   "source": []
  },
  {
   "cell_type": "code",
   "execution_count": null,
   "id": "17fe72b1-9e3a-45ae-b192-8e2a1d7e46c9",
   "metadata": {},
   "outputs": [],
   "source": []
  },
  {
   "cell_type": "code",
   "execution_count": null,
   "id": "07281910-0d7f-47c1-bd7a-028cfd8834b0",
   "metadata": {},
   "outputs": [],
   "source": []
  },
  {
   "cell_type": "code",
   "execution_count": null,
   "id": "4086b9d1-8458-476b-b54e-d16ec50b508b",
   "metadata": {},
   "outputs": [],
   "source": []
  },
  {
   "cell_type": "code",
   "execution_count": null,
   "id": "dafd4d2b-7907-4e31-bebe-ba542c6583f6",
   "metadata": {},
   "outputs": [],
   "source": []
  },
  {
   "cell_type": "code",
   "execution_count": null,
   "id": "ef26b578-0fb6-4ac4-8609-a3e9bdb1bce5",
   "metadata": {},
   "outputs": [],
   "source": []
  },
  {
   "cell_type": "code",
   "execution_count": null,
   "id": "31b7111a-b020-45b9-a128-841baeb42031",
   "metadata": {},
   "outputs": [],
   "source": []
  },
  {
   "cell_type": "code",
   "execution_count": null,
   "id": "0f51e243-6774-4a1b-914d-90e04ae3d842",
   "metadata": {},
   "outputs": [],
   "source": []
  },
  {
   "cell_type": "code",
   "execution_count": null,
   "id": "34956c27-1153-478a-899b-5d432d75dca0",
   "metadata": {},
   "outputs": [],
   "source": []
  },
  {
   "cell_type": "code",
   "execution_count": null,
   "id": "95c615fa-fd02-4e4b-87a8-39f859028f73",
   "metadata": {},
   "outputs": [],
   "source": []
  },
  {
   "cell_type": "code",
   "execution_count": null,
   "id": "fb56fb01-cba2-4fcb-b557-1f5efdf623dd",
   "metadata": {},
   "outputs": [],
   "source": []
  },
  {
   "cell_type": "code",
   "execution_count": null,
   "id": "6fa3c3cb-830f-4cf0-8566-c3e5ad06a0c8",
   "metadata": {},
   "outputs": [],
   "source": []
  },
  {
   "cell_type": "code",
   "execution_count": null,
   "id": "df9a62cb-eb1e-4448-b05b-0bfbceda0e27",
   "metadata": {},
   "outputs": [],
   "source": []
  },
  {
   "cell_type": "code",
   "execution_count": null,
   "id": "1423fdfe-32f0-413c-b08c-4d323d631410",
   "metadata": {},
   "outputs": [],
   "source": []
  },
  {
   "cell_type": "code",
   "execution_count": null,
   "id": "c4b5bc5b-cab4-4665-bf3d-288ca0e61d4d",
   "metadata": {},
   "outputs": [],
   "source": []
  },
  {
   "cell_type": "code",
   "execution_count": null,
   "id": "efed2461-6985-46ec-b9b3-5682abd4aa73",
   "metadata": {},
   "outputs": [],
   "source": []
  }
 ],
 "metadata": {
  "kernelspec": {
   "display_name": "Python 3 (ipykernel)",
   "language": "python",
   "name": "python3"
  },
  "language_info": {
   "codemirror_mode": {
    "name": "ipython",
    "version": 3
   },
   "file_extension": ".py",
   "mimetype": "text/x-python",
   "name": "python",
   "nbconvert_exporter": "python",
   "pygments_lexer": "ipython3",
   "version": "3.12.4"
  }
 },
 "nbformat": 4,
 "nbformat_minor": 5
}
